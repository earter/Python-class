{
  "nbformat": 4,
  "nbformat_minor": 0,
  "metadata": {
    "colab": {
      "name": "exercises2.ipynb",
      "version": "0.3.2",
      "provenance": [],
      "collapsed_sections": [],
      "include_colab_link": true
    },
    "kernelspec": {
      "name": "python3",
      "display_name": "Python 3"
    }
  },
  "cells": [
    {
      "cell_type": "markdown",
      "metadata": {
        "id": "view-in-github",
        "colab_type": "text"
      },
      "source": [
        "<a href=\"https://colab.research.google.com/github/earter/Python-class/blob/master/exercises2.ipynb\" target=\"_parent\"><img src=\"https://colab.research.google.com/assets/colab-badge.svg\" alt=\"Open In Colab\"/></a>"
      ]
    },
    {
      "cell_type": "code",
      "metadata": {
        "id": "q_DirG3e1QHn",
        "colab_type": "code",
        "outputId": "9473a310-a01b-45d0-ec43-1b25d79d3561",
        "colab": {
          "base_uri": "https://localhost:8080/",
          "height": 69
        }
      },
      "source": [
        "# task 1\n",
        "# Construct a generator which returns a sequence of prime numbers \n",
        "# as a function, class and expression \n",
        "\n",
        "n = 100 #range\n",
        "\n",
        "def isprime(number):\n",
        "    if int(number) > 1:\n",
        "        for i in range(2,int(number)):\n",
        "            if (number % i == 0):\n",
        "                return False\n",
        "        else:\n",
        "            return True\n",
        "    else:\n",
        "        return False\n",
        "\n",
        "    \n",
        "def myprimef(range):\n",
        "    cnt = 0\n",
        "    while cnt < range:\n",
        "        if isprime(cnt):\n",
        "            yield cnt\n",
        "        else:\n",
        "            pass\n",
        "        cnt += 1\n",
        "\n",
        "        \n",
        "class MyPrimeC(object):\n",
        "\n",
        "    def __init__(self, range):\n",
        "        self.r = range\n",
        "        \n",
        "    def genprime(self):\n",
        "        for cnt in range(self.r):\n",
        "            if isprime(cnt):\n",
        "                yield cnt\n",
        "        else:\n",
        "            pass\n",
        "        cnt += 1\n",
        "\n",
        "        \n",
        "primeg = [i for i in range(n) if isprime(i)]\n",
        "\n",
        "# test #\n",
        "v = myprimef(n)\n",
        "print(f\"function: {list(v)}\")\n",
        "\n",
        "obj = MyPrimeC(n)\n",
        "print(f\"class: {list(obj.genprime())}\")\n",
        "\n",
        "print(f\"expression: {primeg}\")"
      ],
      "execution_count": 8,
      "outputs": [
        {
          "output_type": "stream",
          "text": [
            "function: [2, 3, 5, 7, 11, 13, 17, 19, 23, 29, 31, 37, 41, 43, 47, 53, 59, 61, 67, 71, 73, 79, 83, 89, 97]\n",
            "class: [2, 3, 5, 7, 11, 13, 17, 19, 23, 29, 31, 37, 41, 43, 47, 53, 59, 61, 67, 71, 73, 79, 83, 89, 97]\n",
            "expression: [2, 3, 5, 7, 11, 13, 17, 19, 23, 29, 31, 37, 41, 43, 47, 53, 59, 61, 67, 71, 73, 79, 83, 89, 97]\n"
          ],
          "name": "stdout"
        }
      ]
    },
    {
      "cell_type": "code",
      "metadata": {
        "id": "0CBMj9fUNrTo",
        "colab_type": "code",
        "outputId": "2044c19d-6b3a-4c23-a9f5-3ddb8fc3db2d",
        "colab": {
          "base_uri": "https://localhost:8080/",
          "height": 52
        }
      },
      "source": [
        "# task 2 \n",
        "# Fill in the Line class methods to accept coordinate \n",
        "# as a pair of tuples and return the slope and distance of the line.\n",
        "\n",
        "import math as m\n",
        "\n",
        "class Line(object):\n",
        "    \n",
        "    def __init__(self,coor1,coor2):\n",
        "        \"\"\"Initialize instance attributes with tuples (x1,y1)  and (x2,y2)\"\"\"\n",
        "        self.c1 = coor1\n",
        "        self.c2 = coor2\n",
        "    \n",
        "    def distance(self):\n",
        "        \"\"\"Calculate the length of the segment (line)\"\"\"\n",
        "        return (m.sqrt((self.c1[0]-self.c2[0])**2 + (self.c1[1]-self.c2[1])**2))\n",
        "    \n",
        "    def slope(self):\n",
        "        \"\"\" Return the slope of a line going through the ends ( the 'a' in y=ax+b)\"\"\"\n",
        "     #   return (self.c1[1]-self.c2[1])/(self.c1[0]-self.c2[0])\n",
        "        return (abs(self.c1[1]-self.c2[1]))/abs((self.c1[0]-self.c2[0]))\n",
        "\n",
        "# test #\n",
        "coordinate1 = (3,2)\n",
        "coordinate2 = (8,10)\n",
        "\n",
        "li = Line(coordinate1,coordinate2)\n",
        "\n",
        "print(li.distance())\n",
        "print(li.slope())"
      ],
      "execution_count": 0,
      "outputs": [
        {
          "output_type": "stream",
          "text": [
            "9.433981132056603\n",
            "1.6\n"
          ],
          "name": "stdout"
        }
      ]
    },
    {
      "cell_type": "code",
      "metadata": {
        "id": "w_94RomKRM-O",
        "colab_type": "code",
        "outputId": "26db95ce-d0cd-4e7b-8593-7a0b03aef543",
        "colab": {
          "base_uri": "https://localhost:8080/",
          "height": 52
        }
      },
      "source": [
        "# task 3\n",
        "# Fill in the class\n",
        "\n",
        "import math as m\n",
        "\n",
        "class Cylinder(object):\n",
        "    \n",
        "    def __init__(self,height=1,radius=1):\n",
        "        self.h = height\n",
        "        self.r = radius        \n",
        "        \n",
        "    def volume(self):\n",
        "        return self.r**2*m.pi*self.h\n",
        "    \n",
        "    def surface_area(self):\n",
        "        return 2*self.r**2*m.pi + 2*m.pi*self.r*self.h \n",
        "\n",
        "# test #\n",
        "c = Cylinder(2,3)\n",
        "print(f\"{c.volume():2.3f}\")\n",
        "print(f\"{c.surface_area():2.3f}\")"
      ],
      "execution_count": 9,
      "outputs": [
        {
          "output_type": "stream",
          "text": [
            "56.549\n",
            "94.248\n"
          ],
          "name": "stdout"
        }
      ]
    },
    {
      "cell_type": "code",
      "metadata": {
        "id": "XLbh1iWxTaZM",
        "colab_type": "code",
        "outputId": "c579a51d-4849-477c-960c-c3b24670710a",
        "colab": {
          "base_uri": "https://localhost:8080/",
          "height": 104
        }
      },
      "source": [
        "# task 4\n",
        "# Write a class that takes a filename as an argument, opens it and reads its \n",
        "# content into a 2D matrix of values (an array of arrays: [[1,2],[3,4]]). \n",
        "# The class should define a function info() which prints out statistical \n",
        "# information about values in columns. Assume that the first row in the file \n",
        "# specifies the column names. Assume that the cells can be both numbers or \n",
        "# strings (you should plan a conversion strategy for statistical data analysis).\n",
        "\n",
        "\n",
        "class DataFile(object):\n",
        "\n",
        "    def __init__(self, filename='undef'):\n",
        "        self.f = filename\n",
        "        self.data = []\n",
        "        with open(self.f) as file:\n",
        "            file.readline()\n",
        "            for line in file:\n",
        "                ld = []                       #lineread\n",
        "                c = line.rstrip().split(';')  #rstrip wywala \\n\n",
        "                ld = [c[0]]\n",
        "                for i in range(1,len(c)):\n",
        "                    ld.append(int(c[i]))\n",
        "                self.data.append(ld)\n",
        "        \n",
        "    def info(self):\n",
        "        data_print = []\n",
        "        for j in range(0,4):\n",
        "            row = [self.min(j), self.max(j), self.avg(j), self.distinct(j)]\n",
        "            data_print.append(row)\n",
        "\n",
        "        col_name = [\"Min\", \"Max\", \"Avg\", \"Distinct\"]\n",
        "        row_name = [\"Name:\", \"Age:\", \"Weight:\", \"Height:\"]\n",
        "        \n",
        "        print(f\"{col_name[0]:>15} {col_name[1]:^11} {col_name[2]:^10} {col_name[3]:^10}\")\n",
        "        for i in range(0, len(col_name)):\n",
        "            print(f\"{row_name[i]:10s} {data_print[i][0]:^5} {data_print[i][1]:^10} {data_print[i][2]:^10} {data_print[i][3]:^10}\")\n",
        "        \n",
        "        \n",
        "    def avg(self, colnum=0, colname=''):\n",
        "        if isinstance(self.data[0][colnum] , str):\n",
        "            return \"-\"\n",
        "        data = [int(self.data[i][colnum]) for i in range(len(self.data))]\n",
        "        return \"%.2f\" % (sum(data)/len(data))\n",
        "     \n",
        "    def min(self, colnum=0, colname=''):\n",
        "        if isinstance(self.data[0][colnum] , str):\n",
        "            return \"-\"\n",
        "        data = [int(self.data[i][colnum]) for i in range(len(self.data))]\n",
        "        return  min(data)     \n",
        "      \n",
        "    def max(self, colnum=0, colname=''):\n",
        "        if isinstance(self.data[0][colnum] , str):\n",
        "            return \"-\"\n",
        "        data = [int(self.data[i][colnum]) for i in range(len(self.data))]\n",
        "        return  max(data)  \n",
        "\n",
        "    def distinct(self, colnum=0, colname=''):     \n",
        "        s = set([self.data[i][colnum] for i in range(len(self.data))])\n",
        "        return len(s)\n",
        "\n",
        "# test #\n",
        "df = DataFile('pythonfile.txt')\n",
        "df.info()"
      ],
      "execution_count": 30,
      "outputs": [
        {
          "output_type": "stream",
          "text": [
            "            Min     Max        Avg      Distinct \n",
            "Name:        -       -                      -          3     \n",
            "Age:         4       8                     6.00        3     \n",
            "Weight:     18       32                   25.00        3     \n",
            "Height:     98      138                   119.67       3     \n"
          ],
          "name": "stdout"
        }
      ]
    }
  ]
}