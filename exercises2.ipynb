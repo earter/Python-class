{
  "nbformat": 4,
  "nbformat_minor": 0,
  "metadata": {
    "colab": {
      "name": "exercises2.ipynb",
      "version": "0.3.2",
      "provenance": [],
      "collapsed_sections": [],
      "include_colab_link": true
    },
    "kernelspec": {
      "name": "python3",
      "display_name": "Python 3"
    }
  },
  "cells": [
    {
      "cell_type": "markdown",
      "metadata": {
        "id": "view-in-github",
        "colab_type": "text"
      },
      "source": [
        "<a href=\"https://colab.research.google.com/github/earter/Python-class/blob/master/exercises2.ipynb\" target=\"_parent\"><img src=\"https://colab.research.google.com/assets/colab-badge.svg\" alt=\"Open In Colab\"/></a>"
      ]
    },
    {
      "metadata": {
        "id": "q_DirG3e1QHn",
        "colab_type": "code",
        "outputId": "d244a769-c263-4f0a-8867-4b0a281dad53",
        "colab": {
          "base_uri": "https://localhost:8080/",
          "height": 69
        }
      },
      "cell_type": "code",
      "source": [
        "# task 1\n",
        "# Construct a generator which returns a sequence of prime numbers as a function, class and expression \n",
        "\n",
        "n = 100 #range\n",
        "\n",
        "def isprime(no):\n",
        "    no = abs(int(no))\n",
        "    if no==2 or no==3 or no==5 or no==7:\n",
        "        return True\n",
        "    elif no!=0 and no!=1 and no%2!=0 and no%3!=0 and no%5!=0 and no%7!=0:\n",
        "        return True\n",
        "    else:\n",
        "        return False\n",
        "\n",
        "def myprimef(range):\n",
        "    cnt = 0\n",
        "    while cnt < range:\n",
        "        if isprime(cnt):\n",
        "            yield cnt\n",
        "        else:\n",
        "            pass\n",
        "        cnt += 1\n",
        "\n",
        "class MyPrimeC(object):\n",
        "\n",
        "    def __init__(self, range):\n",
        "        self.r = range\n",
        "        \n",
        "    def genprime(self):\n",
        "        for cnt in range(self.r):\n",
        "            if isprime(cnt):\n",
        "                yield cnt\n",
        "        else:\n",
        "            pass\n",
        "        cnt += 1\n",
        "\n",
        "primeg = (i for i in range(n) if isprime(i))\n",
        "\n",
        "# test #\n",
        "v = myprimef(n)\n",
        "print(f\"function: {sum(v)}\")\n",
        "\n",
        "obj = MyPrimeC(n)\n",
        "print(f\"class: {sum(obj.genprime())}\")\n",
        "\n",
        "print(f\"expression: {sum(primeg)}\")"
      ],
      "execution_count": 12,
      "outputs": [
        {
          "output_type": "stream",
          "text": [
            "function: 1060\n",
            "class: 1060\n",
            "expression: 1060\n"
          ],
          "name": "stdout"
        }
      ]
    },
    {
      "metadata": {
        "id": "0CBMj9fUNrTo",
        "colab_type": "code",
        "outputId": "2044c19d-6b3a-4c23-a9f5-3ddb8fc3db2d",
        "colab": {
          "base_uri": "https://localhost:8080/",
          "height": 52
        }
      },
      "cell_type": "code",
      "source": [
        "# task 2 \n",
        "# Fill in the Line class methods to accept coordinate as a pair of tuples and return the slope and distance of the line.\n",
        "\n",
        "import math as m\n",
        "\n",
        "class Line(object):\n",
        "    \n",
        "    def __init__(self,coor1,coor2):\n",
        "        \"\"\"Initialize instance attributes with tuples (x1,y1)  and (x2,y2)\"\"\"\n",
        "        self.c1 = coor1\n",
        "        self.c2 = coor2\n",
        "    \n",
        "    def distance(self):\n",
        "        \"\"\"Calculate the length of the segment (line)\"\"\"\n",
        "        return (m.sqrt((self.c1[0]-self.c2[0])**2 + (self.c1[1]-self.c2[1])**2))\n",
        "    \n",
        "    def slope(self):\n",
        "        \"\"\" Return the slope of a line going through the ends ( the 'a' in y=ax+b)\"\"\"\n",
        "     #   return (self.c1[1]-self.c2[1])/(self.c1[0]-self.c2[0])\n",
        "        return (abs(self.c1[1]-self.c2[1]))/abs((self.c1[0]-self.c2[0]))\n",
        "\n",
        "# test #\n",
        "coordinate1 = (3,2)\n",
        "coordinate2 = (8,10)\n",
        "\n",
        "li = Line(coordinate1,coordinate2)\n",
        "\n",
        "print(li.distance())\n",
        "print(li.slope())"
      ],
      "execution_count": 5,
      "outputs": [
        {
          "output_type": "stream",
          "text": [
            "9.433981132056603\n",
            "1.6\n"
          ],
          "name": "stdout"
        }
      ]
    },
    {
      "metadata": {
        "id": "w_94RomKRM-O",
        "colab_type": "code",
        "outputId": "b628a11c-24eb-4acf-c5b3-f8b840ab7325",
        "colab": {
          "base_uri": "https://localhost:8080/",
          "height": 52
        }
      },
      "cell_type": "code",
      "source": [
        "# task 3\n",
        "# Fill in the class\n",
        "\n",
        "import math as m\n",
        "\n",
        "class Cylinder(object):\n",
        "    \n",
        "    def __init__(self,height=1,radius=1):\n",
        "        self.h = height\n",
        "        self.r = radius        \n",
        "        \n",
        "    def volume(self):\n",
        "        return self.r**2*m.pi*self.h\n",
        "    \n",
        "    def surface_area(self):\n",
        "        return 2*self.r**2*m.pi + 2*m.pi*self.r*self.h \n",
        "\n",
        "# test #\n",
        "c = Cylinder(2,3)\n",
        "print(f\"{c.volume():2.2f}\")\n",
        "print(f\"{c.surface_area():2.2f}\")"
      ],
      "execution_count": 9,
      "outputs": [
        {
          "output_type": "stream",
          "text": [
            "56.55\n",
            "94.25\n"
          ],
          "name": "stdout"
        }
      ]
    },
    {
      "metadata": {
        "id": "XLbh1iWxTaZM",
        "colab_type": "code",
        "outputId": "e44f048f-eac7-4df3-fbc5-414e104f9a2b",
        "colab": {
          "base_uri": "https://localhost:8080/",
          "height": 104
        }
      },
      "cell_type": "code",
      "source": [
        "# task 4\n",
        "# Write a class that takes a filename as an argument, opens it and reads its content into a 2D matrix of values \n",
        "# (an array of arrays: [[1,2],[3,4]]). The class should define a function info() which prints out statistical \n",
        "# information about values in columns. Assume that the first row in the file specifies the column names. \n",
        "# Assume that the cells can be both numbers or strings (you should plan a conversion strategy for statistical data analysis).\n",
        "\n",
        "\n",
        "class DataFile(object):\n",
        "\n",
        "    def __init__(self, filename='undef'):\n",
        "        self.f = filename\n",
        "        self.data = []\n",
        "        with open(self.f) as file:\n",
        "            file.readline()\n",
        "            for line in file:\n",
        "                ld = []                       #lineread\n",
        "                c = line.rstrip().split(';')  #rstrip wywala \\n\n",
        "                ld = [c[0]]\n",
        "                for i in range(1,len(c)):\n",
        "                    ld.append(int(c[i]))\n",
        "                self.data.append(ld)\n",
        "        \n",
        "    def info(self):\n",
        "        data_print = [[\"-\", \"-\", \"-\", self.distinct(0)]]\n",
        "       \n",
        "        for j in range(1,4):\n",
        "            row = [self.min(int(j)), self.max(j), self.avg(j), self.distinct(j)]\n",
        "            data_print.append(row)\n",
        "\n",
        "        col_name = [\"Min\", \"Max\", \"Avg\", \"Distinct\"]\n",
        "        row_name = [\"Name:\", \"Age:\", \"Weight:\", \"Height:\"]\n",
        "        \n",
        "        print(f\"{col_name[0]:>15} {col_name[1]:^11} {col_name[2]:^10} {col_name[3]:^10}\")\n",
        "        for i in range(0, len(col_name)):\n",
        "            print(f\"{row_name[i]:10s} {data_print[i][0]:^5} {data_print[i][1]:^10} {data_print[i][2]:^10} {data_print[i][3]:^10}\")\n",
        "        \n",
        "        \n",
        "    def avg(self, colnum=0, colname=''):\n",
        "        data = [int(self.data[i][colnum]) for i in range(len(self.data))]\n",
        "        return \"%.2f\" % (sum(data)/len(data))\n",
        "     \n",
        "    def min(self, colnum=0, colname=''):\n",
        "        data = [int(self.data[i][colnum]) for i in range(len(self.data))]\n",
        "        return  min(data)     \n",
        "      \n",
        "    def max(self, colnum=0, colname=''):\n",
        "        data = [int(self.data[i][colnum]) for i in range(len(self.data))]\n",
        "        return  max(data)  \n",
        "\n",
        "    def distinct(self, colnum=0, colname=''):     \n",
        "        s = set([self.data[i][colnum] for i in range(len(self.data))])\n",
        "        return len(s)\n",
        "\n",
        "# test #\n",
        "df = DataFile('pythonfile.txt')\n",
        "df.info()"
      ],
      "execution_count": 0,
      "outputs": [
        {
          "output_type": "stream",
          "text": [
            "            Min     Max        Avg      Distinct \n",
            "Name:        -       -          -          3     \n",
            "Age:         4       8         6.00        3     \n",
            "Weight:     18       32       25.00        3     \n",
            "Height:     98      138       119.67       3     \n"
          ],
          "name": "stdout"
        }
      ]
    }
  ]
}