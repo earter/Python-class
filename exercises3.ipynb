{
  "nbformat": 4,
  "nbformat_minor": 0,
  "metadata": {
    "colab": {
      "name": "exercises3.ipynb",
      "version": "0.3.2",
      "provenance": [],
      "collapsed_sections": [],
      "include_colab_link": true
    },
    "kernelspec": {
      "name": "python3",
      "display_name": "Python 3"
    }
  },
  "cells": [
    {
      "cell_type": "markdown",
      "metadata": {
        "id": "view-in-github",
        "colab_type": "text"
      },
      "source": [
        "<a href=\"https://colab.research.google.com/github/earter/Python-class/blob/master/exercises3.ipynb\" target=\"_parent\"><img src=\"https://colab.research.google.com/assets/colab-badge.svg\" alt=\"Open In Colab\"/></a>"
      ]
    },
    {
      "cell_type": "code",
      "metadata": {
        "id": "KjGS0mX_4GXb",
        "colab_type": "code",
        "outputId": "798a6ab2-a020-49fd-b59a-34c3cd4d426f",
        "colab": {
          "base_uri": "https://localhost:8080/",
          "height": 52
        }
      },
      "source": [
        "# task 1\n",
        "# Calculate a value of a polynomial for a vector of x coordinates using single line list comprehension expression and a generator.\n",
        "# You must use enumerate() and sum()\n",
        "\n",
        "c = [1,2,3]\n",
        "x = [0, 2, 4, 8]\n",
        "\n",
        "p = [sum((c[1]*x**c[0] for c in enumerate(c))) for x in x]            # way 1\n",
        "r = [sum(list(map(lambda c: c[1]*x**c[0], enumerate(c)))) for x in x] # way 2\n",
        "\n",
        "print(p)\n",
        "print(r)\n"
      ],
      "execution_count": 0,
      "outputs": [
        {
          "output_type": "stream",
          "text": [
            "[1, 17, 57, 209]\n",
            "[1, 17, 57, 209]\n"
          ],
          "name": "stdout"
        }
      ]
    },
    {
      "cell_type": "code",
      "metadata": {
        "id": "ZyuMOHVkIkuw",
        "colab_type": "code",
        "outputId": "29ed8220-860c-4409-ad3c-3e0b23ee1ae0",
        "colab": {
          "base_uri": "https://localhost:8080/",
          "height": 278
        }
      },
      "source": [
        "c=[5,2,9]\n",
        "\n",
        "for i in enumerate(c):\n",
        "    print(type(i))\n",
        "    print(type(i[0]))\n",
        "    print(i[0])\n",
        "    print(i[1])\n",
        "    print(i)"
      ],
      "execution_count": 0,
      "outputs": [
        {
          "output_type": "stream",
          "text": [
            "<class 'tuple'>\n",
            "<class 'int'>\n",
            "0\n",
            "5\n",
            "(0, 5)\n",
            "<class 'tuple'>\n",
            "<class 'int'>\n",
            "1\n",
            "2\n",
            "(1, 2)\n",
            "<class 'tuple'>\n",
            "<class 'int'>\n",
            "2\n",
            "9\n",
            "(2, 9)\n"
          ],
          "name": "stdout"
        }
      ]
    },
    {
      "cell_type": "code",
      "metadata": {
        "id": "B6svO4sTvzlH",
        "colab_type": "code",
        "outputId": "29ed57c0-a81d-4157-c5fd-705f9a8aec11",
        "colab": {
          "base_uri": "https://localhost:8080/",
          "height": 52
        }
      },
      "source": [
        "v = [( lambda x: x % 2 == 1 ,(i for i in range(10)))]\n",
        "print(type(v))\n",
        "print((v))"
      ],
      "execution_count": 0,
      "outputs": [
        {
          "output_type": "stream",
          "text": [
            "<class 'list'>\n",
            "[(<function <lambda> at 0x7fdf5d4782f0>, <generator object <genexpr> at 0x7fdf5dcc5e60>)]\n"
          ],
          "name": "stdout"
        }
      ]
    },
    {
      "cell_type": "code",
      "metadata": {
        "id": "IJSz950C0zuw",
        "colab_type": "code",
        "outputId": "72db9a6a-a026-48ed-cc84-50641229ceb9",
        "colab": {
          "base_uri": "https://localhost:8080/",
          "height": 34
        }
      },
      "source": [
        "c = [1,2,3]\n",
        "print(sum(c))"
      ],
      "execution_count": 0,
      "outputs": [
        {
          "output_type": "stream",
          "text": [
            "6\n"
          ],
          "name": "stdout"
        }
      ]
    },
    {
      "cell_type": "code",
      "metadata": {
        "id": "AUAC2RQi43wF",
        "colab_type": "code",
        "outputId": "60c1b6e3-ea82-40a4-fce6-d49e0c9cfe8c",
        "colab": {
          "base_uri": "https://localhost:8080/",
          "height": 52
        }
      },
      "source": [
        "c = [1,2,3]\n",
        "x = [0, 2, 4, 8]\n",
        "\n",
        "#p = list(map( (lambda c: c[1]*1**c[0]), enumerate(c) ))\n",
        "p = (lambda c: c*1**c)(c[1])\n",
        "print(type(p))\n",
        "print(p)\n"
      ],
      "execution_count": 0,
      "outputs": [
        {
          "output_type": "stream",
          "text": [
            "<class 'int'>\n",
            "2\n"
          ],
          "name": "stdout"
        }
      ]
    },
    {
      "cell_type": "code",
      "metadata": {
        "id": "ITOPiZi_7x6G",
        "colab_type": "code",
        "outputId": "fe3d421a-c80b-4aff-a077-ad629fd5fd63",
        "colab": {
          "base_uri": "https://localhost:8080/",
          "height": 34
        }
      },
      "source": [
        "p=(lambda x: x**2)(5)\n",
        "print(p)"
      ],
      "execution_count": 0,
      "outputs": [
        {
          "output_type": "stream",
          "text": [
            "25\n"
          ],
          "name": "stdout"
        }
      ]
    },
    {
      "cell_type": "code",
      "metadata": {
        "id": "XZoOOoMomZlX",
        "colab_type": "code",
        "outputId": "e14ec7a8-a004-44db-ea47-d3c59a3acfd6",
        "colab": {
          "base_uri": "https://localhost:8080/",
          "height": 269
        }
      },
      "source": [
        "## task 2 ##\n",
        "# Generate a smooth polynomial plot from Task 1 using dense vector of x coordinates\n",
        "\n",
        "import matplotlib.pyplot as plt\n",
        "\n",
        "c = [1,2,3]\n",
        "\n",
        "x = [8*i/100 for i in range(0,100)]\n",
        "y = [sum((c[1]*x**c[0] for c in enumerate(c))) for x in x]\n",
        "plt.plot(x,y)\n",
        "plt.plot([0,2,4,8],[1, 17, 57, 209])\n",
        "plt.grid()\n",
        "plt.show()\n"
      ],
      "execution_count": 0,
      "outputs": [
        {
          "output_type": "display_data",
          "data": {
            "image/png": "[encoded data removed]",
            "text/plain": [
              "<Figure size 432x288 with 1 Axes>"
            ]
          },
          "metadata": {
            "tags": []
          }
        }
      ]
    },
    {
      "cell_type": "code",
      "metadata": {
        "id": "beuVMSkiIY26",
        "colab_type": "code",
        "outputId": "7acf3cde-5929-43f2-8072-5614b5d7b9ab",
        "colab": {
          "base_uri": "https://localhost:8080/",
          "height": 52
        }
      },
      "source": [
        "## task 3 ##\n",
        "# Using a conditiional list comprehension, convert all occurrences of the letter ‘e’ in the following string to uppercase\n",
        "\n",
        "upperstr = 'thepurposeoflife'\n",
        "upperstr = ''.join([letter.upper() if letter=='e' else letter for letter in upperstr])\n",
        "print(upperstr)\n",
        "\n",
        "# short version\n",
        "'thepurposeoflife'.replace('e','E')"
      ],
      "execution_count": 0,
      "outputs": [
        {
          "output_type": "stream",
          "text": [
            "thEpurposEoflifE\n"
          ],
          "name": "stdout"
        },
        {
          "output_type": "execute_result",
          "data": {
            "text/plain": [
              "'thEpurposEoflifE'"
            ]
          },
          "metadata": {
            "tags": []
          },
          "execution_count": 26
        }
      ]
    },
    {
      "cell_type": "code",
      "metadata": {
        "id": "0OJAIub8R2oc",
        "colab_type": "code",
        "outputId": "b14b5c2e-66de-4856-b634-8f76408ad271",
        "colab": {
          "base_uri": "https://localhost:8080/",
          "height": 86
        }
      },
      "source": [
        "## task 4 ##\n",
        "# iterate over the records, unpack them, and print the results\n",
        "\n",
        "records = (('Sam', 19, 'CS'),\n",
        "('Nicole', 21, 'Biochemistry'),\n",
        "('Paul', 20, 'Fine Arts'),\n",
        "('Ashley', 18, 'History'))\n",
        "\n",
        "def showrecords(rec):\n",
        "    [print(f\"Name: {item[0]}\\t Age: {item[1]}\\t Major: {item[2]}\") for item in rec]\n",
        "        \n",
        "showrecords(records)\n"
      ],
      "execution_count": 0,
      "outputs": [
        {
          "output_type": "stream",
          "text": [
            "Name: Sam\t Age: 19\t Major: CS\n",
            "Name: Nicole\t Age: 21\t Major: Biochemistry\n",
            "Name: Paul\t Age: 20\t Major: Fine Arts\n",
            "Name: Ashley\t Age: 18\t Major: History\n"
          ],
          "name": "stdout"
        }
      ]
    },
    {
      "cell_type": "code",
      "metadata": {
        "id": "m2KTb3OBrHQH",
        "colab_type": "code",
        "outputId": "71a2af47-bbb3-4e91-c562-a093e27af391",
        "colab": {
          "base_uri": "https://localhost:8080/",
          "height": 52
        }
      },
      "source": [
        "## task 5 ##\n",
        "# Make a nested function and a python closure to make functions to get multiple multiplication functions using closures. \n",
        "# That is using closures, one could make functions to create multiply_with_5() or multiply_with_4() functions using closures.\n",
        "\n",
        "def multiplier_of(n):\n",
        "    def submultiply(x):\n",
        "        return n * x\n",
        "    return submultiply\n",
        "\n",
        "# test code\n",
        "multiply_with_5 = multiplier_of(5)\n",
        "print(multiply_with_5(9))\n",
        "# should return 45\n",
        "\n",
        "multiply_with_45 = multiplier_of(multiply_with_5(9))\n",
        "print(multiply_with_45(2))\n",
        "# should return: 90\n",
        "\n"
      ],
      "execution_count": 0,
      "outputs": [
        {
          "output_type": "stream",
          "text": [
            "45\n",
            "90\n"
          ],
          "name": "stdout"
        }
      ]
    },
    {
      "cell_type": "code",
      "metadata": {
        "id": "jTEtp5dnyfcM",
        "colab_type": "code",
        "outputId": "3f5224d1-f3d1-4026-d5d1-4106169d2445",
        "colab": {
          "base_uri": "https://localhost:8080/",
          "height": 86
        }
      },
      "source": [
        "## task 6 ##\n",
        "# Make a decorator factory which returns a decorator that decorates functions with one argument. \n",
        "# The factory should take one argument, a type, and then returns a decorator that makes function should check \n",
        "# if the input is the correct type. If it is wrong, it should print(“Bad Type”) \n",
        "# (In reality, it should raise an error, but error raising isn’t in this tutorial). \n",
        "# Look at the tutorial code and expected output to see what it is if you are confused (I know I would be.) \n",
        "# Using isinstance(object, type_of_object) or type(object) might help.\n",
        "\n",
        "\n",
        "def type_check(correct_type):\n",
        "   # print(f\"corr type: {correct_type}\")\n",
        "    \n",
        "    def check(old_function):\n",
        "        #print(f\"old fun: {old_function.__code__.co_varnames}\")\n",
        "        #print(f\"old fun: {type(old_function)}\")\n",
        "        if not isinstance(old_function, correct_type):\n",
        "            print(\"Bad type\")\n",
        "            return\n",
        "        return old_function        \n",
        "    return check\n",
        "\n",
        "\n",
        "#@type_check(int) \n",
        "def times2(num):\n",
        "    return num*2\n",
        "\n",
        "times2 = type_check(int)\n",
        "#print(f\"times2 type: {type(times2)}\")\n",
        "\n",
        "# test\n",
        "print(f\"print: {times2(2)}\")\n",
        "times2('Not A Number')\n",
        "\n",
        "\n",
        "#@type_check(str)\n",
        "def first_letter(word):\n",
        "    return word[0]\n",
        "\n",
        "first_letter = type_check(str)\n",
        "\n",
        "print(first_letter('Hello World'))\n",
        "first_letter(['Not', 'A', 'String'])\n",
        "\n",
        "## PROBLEM ## \n",
        "#  ferment sieje ten skrócik @type_check()\n",
        "# ten @... to od razu wykonywał też nested funkcję, tę co sprawdza input dekorowanej \n",
        "# funkcji, a to było przecież w ogóle przed jej deklaracją (tej dekorowanej)"
      ],
      "execution_count": 0,
      "outputs": [
        {
          "output_type": "stream",
          "text": [
            "print: 2\n",
            "Bad type\n",
            "Hello World\n",
            "Bad type\n"
          ],
          "name": "stdout"
        }
      ]
    },
    {
      "cell_type": "code",
      "metadata": {
        "id": "IEraMp5HGaZC",
        "colab_type": "code",
        "outputId": "e4c01140-3c45-4bd6-de51-3b602033ca28",
        "colab": {
          "base_uri": "https://localhost:8080/",
          "height": 324
        }
      },
      "source": [
        "## task 6 ##\n",
        "# Make a decorator factory which returns a decorator that decorates functions with one argument. \n",
        "# The factory should take one argument, a type, and then returns a decorator that makes function should check \n",
        "# if the input is the correct type. If it is wrong, it should print(“Bad Type”) \n",
        "# (In reality, it should raise an error, but error raising isn’t in this tutorial). \n",
        "# Look at the tutorial code and expected output to see what it is if you are confused (I know I would be.) \n",
        "# Using isinstance(object, type_of_object) or type(object) might help.\n",
        "\n",
        "\n",
        "def type_check(correct_type):\n",
        "    print(f\"corr type: {correct_type}\")\n",
        "    \n",
        "    def check(old_function):\n",
        "        #print(f\"old fun: {old_function.__code__.co_varnames}\")\n",
        "        print(f\"old fun: {type(old_function)}\")\n",
        "        if not isinstance(old_function, correct_type):\n",
        "            print(\"Bad type\")\n",
        "            return\n",
        "        return old_function        \n",
        "    return check\n",
        "\n",
        "print(\"1st print\")\n",
        "@type_check(int) \n",
        "def times2(num):\n",
        "    return num*2\n",
        "\n",
        "print(f\"times2 type: {type(times2)}\")\n",
        "\n",
        "# test\n",
        "print(f\"print: {times2(2)}\")\n",
        "times2('Not A Number')\n",
        "\n",
        "\"\"\"\n",
        "@type_check(str)\n",
        "def first_letter(word):\n",
        "    return word[0]\n",
        "\n",
        "print(first_letter('Hello World'))\n",
        "first_letter(['Not', 'A', 'String'])\n",
        "\"\"\" \n",
        "\n",
        "## PROBLEM ## \n",
        "#  ferment sieje ten skrócik @type_check()\n",
        "# ten @... to od razu wykonywał też nested funkcję, tę co sprawdza input dekorowanej \n",
        "# funkcji, a to było przecież w ogóle przed jej deklaracją (tej dekorowanej)"
      ],
      "execution_count": 0,
      "outputs": [
        {
          "output_type": "stream",
          "text": [
            "1st print\n",
            "corr type: <class 'int'>\n",
            "old fun: <class 'function'>\n",
            "Bad type\n",
            "times2 type: <class 'NoneType'>\n"
          ],
          "name": "stdout"
        },
        {
          "output_type": "error",
          "ename": "TypeError",
          "evalue": "ignored",
          "traceback": [
            "\u001b[0;31m---------------------------------------------------------------------------\u001b[0m",
            "\u001b[0;31mTypeError\u001b[0m                                 Traceback (most recent call last)",
            "\u001b[0;32m<ipython-input-41-53883edf6dc8>\u001b[0m in \u001b[0;36m<module>\u001b[0;34m()\u001b[0m\n\u001b[1;32m     21\u001b[0m \u001b[0;34m\u001b[0m\u001b[0m\n\u001b[1;32m     22\u001b[0m \u001b[0;31m# test\u001b[0m\u001b[0;34m\u001b[0m\u001b[0;34m\u001b[0m\u001b[0;34m\u001b[0m\u001b[0m\n\u001b[0;32m---> 23\u001b[0;31m \u001b[0mprint\u001b[0m\u001b[0;34m(\u001b[0m\u001b[0;34mf\"print: {times2(2)}\"\u001b[0m\u001b[0;34m)\u001b[0m\u001b[0;34m\u001b[0m\u001b[0;34m\u001b[0m\u001b[0m\n\u001b[0m\u001b[1;32m     24\u001b[0m \u001b[0mtimes2\u001b[0m\u001b[0;34m(\u001b[0m\u001b[0;34m'Not A Number'\u001b[0m\u001b[0;34m)\u001b[0m\u001b[0;34m\u001b[0m\u001b[0;34m\u001b[0m\u001b[0m\n\u001b[1;32m     25\u001b[0m \u001b[0;34m\u001b[0m\u001b[0m\n",
            "\u001b[0;31mTypeError\u001b[0m: 'NoneType' object is not callable"
          ]
        }
      ]
    },
    {
      "cell_type": "code",
      "metadata": {
        "id": "zuqPqUts1MsG",
        "colab_type": "code",
        "outputId": "7cd851cd-6b4a-42f9-9a92-93f5715846c5",
        "colab": {
          "base_uri": "https://localhost:8080/",
          "height": 434
        }
      },
      "source": [
        "dir(times2)"
      ],
      "execution_count": 0,
      "outputs": [
        {
          "output_type": "execute_result",
          "data": {
            "text/plain": [
              "['__bool__',\n",
              " '__class__',\n",
              " '__delattr__',\n",
              " '__dir__',\n",
              " '__doc__',\n",
              " '__eq__',\n",
              " '__format__',\n",
              " '__ge__',\n",
              " '__getattribute__',\n",
              " '__gt__',\n",
              " '__hash__',\n",
              " '__init__',\n",
              " '__init_subclass__',\n",
              " '__le__',\n",
              " '__lt__',\n",
              " '__ne__',\n",
              " '__new__',\n",
              " '__reduce__',\n",
              " '__reduce_ex__',\n",
              " '__repr__',\n",
              " '__setattr__',\n",
              " '__sizeof__',\n",
              " '__str__',\n",
              " '__subclasshook__']"
            ]
          },
          "metadata": {
            "tags": []
          },
          "execution_count": 23
        }
      ]
    },
    {
      "cell_type": "code",
      "metadata": {
        "id": "lnxCejjsCOxA",
        "colab_type": "code",
        "outputId": "c6789871-243c-4ca6-f7ad-a2f6e3251407",
        "colab": {
          "base_uri": "https://localhost:8080/",
          "height": 52
        }
      },
      "source": [
        "## task 7 ##\n",
        "\n",
        "# Decorators don’t have to wrap the function they’re decorating. They can also simply register \n",
        "# that a function exists and return it unwrapped. This can be used, for instance, to create a light-weight plug-in architecture.\n",
        "\n",
        "import random\n",
        "PLUGINS = dict()\n",
        "\n",
        "def register(func):\n",
        "    \n",
        "    PLUGINS.update({func.__name__: func})\n",
        "    return func\n",
        "\n",
        "@register\n",
        "def say_hello(name):\n",
        "    return f\"Hello {name}\"\n",
        "\n",
        "@register\n",
        "def be_awesome(name):\n",
        "    return f\"Yo {name}, together we are the awesomest!\"\n",
        "\n",
        "def randomly_greet(name):\n",
        "    greeter, greeter_func = random.choice(list(PLUGINS.items()))\n",
        "    print(f\"Using {greeter}\")\n",
        "    return greeter_func(name)\n",
        "  \n",
        "randomly_greet('John')  "
      ],
      "execution_count": 0,
      "outputs": [
        {
          "output_type": "stream",
          "text": [
            "Using be_awesome\n"
          ],
          "name": "stdout"
        },
        {
          "output_type": "execute_result",
          "data": {
            "text/plain": [
              "'Yo John, together we are the awesomest!'"
            ]
          },
          "metadata": {
            "tags": []
          },
          "execution_count": 23
        }
      ]
    }
  ]
}