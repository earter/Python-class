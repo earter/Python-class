{
  "nbformat": 4,
  "nbformat_minor": 0,
  "metadata": {
    "colab": {
      "name": "exercises4_matplotlib.ipynb",
      "version": "0.3.2",
      "provenance": [],
      "collapsed_sections": [],
      "include_colab_link": true
    },
    "kernelspec": {
      "name": "python3",
      "display_name": "Python 3"
    }
  },
  "cells": [
    {
      "cell_type": "markdown",
      "metadata": {
        "id": "view-in-github",
        "colab_type": "text"
      },
      "source": [
        "<a href=\"https://colab.research.google.com/github/earter/Python-class/blob/master/exercises4_matplotlib.ipynb\" target=\"_parent\"><img src=\"https://colab.research.google.com/assets/colab-badge.svg\" alt=\"Open In Colab\"/></a>"
      ]
    },
    {
      "cell_type": "code",
      "metadata": {
        "id": "bibZgGYFLmAl",
        "colab_type": "code",
        "colab": {}
      },
      "source": [
        "import csv\n",
        "import matplotlib.pyplot as plt"
      ],
      "execution_count": 0,
      "outputs": []
    },
    {
      "cell_type": "code",
      "metadata": {
        "id": "YGuJ6yKWMQbH",
        "colab_type": "code",
        "outputId": "569e1658-a2c2-4855-fa6d-28ff01cde705",
        "colab": {
          "base_uri": "https://localhost:8080/",
          "height": 486
        }
      },
      "source": [
        "## task 1 ##\n",
        "# Read the data attached in ISOD about the crimes in Los Angeles from 2010. \n",
        "# Generate a histogram analyzing the number of crimes committed along the day. \n",
        "# Show the hour of day distribution of crimes using two kinds of plots: histiogram and a scatter plot. \n",
        "# (Caution! For scatter plot you will have to calculate number of crime occurrences in each hour.)\n",
        "\n",
        "with open('Crime_Data_from_2010_small.csv') as f:\n",
        "    reader = csv.reader(f, delimiter=',')\n",
        "    #for row in reader:\n",
        "    #   print(row[3])\n",
        "        \n",
        "    occurances_hours = [row[3][0:2] for row in reader]\n",
        "    occurances_hours = sorted(list(map(int, occurances_hours[1:])))\n",
        "    \n",
        "fig, axes = plt.subplots(2,1, figsize=(8,8))\n",
        "axes[0].grid()\n",
        "axes[0].hist(occurances_hours, rwidth=0.9, bins=12)   \n",
        "axes[0].set_xticks(range(1,24,2))\n",
        "\n",
        "import collections\n",
        "cnt = collections.Counter(occurances_hours)\n",
        "axes[1].grid()\n",
        "axes[1].scatter(cnt.keys(),cnt.values())\n",
        "axes[1].annotate(f'The maximum value: {max(cnt.values())}', xytext=(3,160),xy=(19, 171),\n",
        "            arrowprops=dict(arrowstyle=\"->\",lw=2))\n",
        "\n",
        "\n",
        "plt.show() #no matpotlib object info is printed    "
      ],
      "execution_count": 0,
      "outputs": [
        {
          "output_type": "display_data",
          "data": {
            "image/png": "[encoded data removed]",
            "text/plain": [
              "<Figure size 576x576 with 2 Axes>"
            ]
          },
          "metadata": {
            "tags": []
          }
        }
      ]
    },
    {
      "cell_type": "code",
      "metadata": {
        "id": "q6wGDthcqK9J",
        "colab_type": "code",
        "colab": {}
      },
      "source": [
        "\n"
      ],
      "execution_count": 0,
      "outputs": []
    },
    {
      "cell_type": "code",
      "metadata": {
        "id": "MRmsLshKs6I9",
        "colab_type": "code",
        "outputId": "926c6c0d-db97-4189-cb42-94f7135705da",
        "colab": {
          "base_uri": "https://localhost:8080/",
          "height": 567
        }
      },
      "source": [
        "## task 2 ##\n",
        "# Implement a Gaussian elimination algorithm with a function taking two arguments: A - the matrix, b - right hand side vector\n",
        "\n",
        "import numpy as np \n",
        "\n",
        "def gaussian(A,b):\n",
        "    A_wk = A\n",
        "    b_wk = b\n",
        "    A_aug = np.column_stack((A,b))\n",
        "    return A_aug\n",
        "\n",
        "# Implement a backward substitution and find a solution\n",
        "\n",
        "A = np.arange(1, 17, dtype=np.float64).reshape(4,4)\n",
        "A[1,2] = 88\n",
        "A[1,3] = -3\n",
        "A[2,3] = -3\n",
        "print(f'A = \\n{A}')\n",
        "\n",
        "x = np.ones(A.shape[0])\n",
        "print(f'Original x = {x}')\n",
        "b = A  @ x.T\n",
        "print(f'Right hand side for testing: b = {b}')\n",
        "\n",
        "\n",
        "Ae = gaussian(A, b)\n",
        "print(f'Check if A was unchanged ')\n",
        "print(f'Eliminated augmented matrix:\\n {Ae}')\n",
        "print(f'Eliminated augmented matrix A part: \\n{Ae[:,:-1]}')\n",
        "print(f'Eliminated augmented matrix b part: \\n{Ae[:,Ae.shape[1]-1]}')\n",
        "\n",
        "# Find solution\n",
        "x = back(Ae[:,:-1],Ae[:,Ae.shape[1]-1])\n",
        "print(f'Solution: {x}')"
      ],
      "execution_count": 0,
      "outputs": [
        {
          "output_type": "stream",
          "text": [
            "A = \n",
            "[[ 1.  2.  3.  4.]\n",
            " [ 5.  6. 88. -3.]\n",
            " [ 9. 10. 11. -3.]\n",
            " [13. 14. 15. 16.]]\n",
            "Original x = [1. 1. 1. 1.]\n",
            "Right hand side for testing: b = [10. 96. 27. 58.]\n",
            "Check if A was unchanged \n",
            "Eliminated augmented matrix:\n",
            " [[ 1.  2.  3.  4. 10.]\n",
            " [ 5.  6. 88. -3. 96.]\n",
            " [ 9. 10. 11. -3. 27.]\n",
            " [13. 14. 15. 16. 58.]]\n",
            "Eliminated augmented matrix A part: \n",
            "[[ 1.  2.  3.  4.]\n",
            " [ 5.  6. 88. -3.]\n",
            " [ 9. 10. 11. -3.]\n",
            " [13. 14. 15. 16.]]\n",
            "Eliminated augmented matrix b part: \n",
            "[10. 96. 27. 58.]\n"
          ],
          "name": "stdout"
        },
        {
          "output_type": "error",
          "ename": "NameError",
          "evalue": "ignored",
          "traceback": [
            "\u001b[0;31m---------------------------------------------------------------------------\u001b[0m",
            "\u001b[0;31mNameError\u001b[0m                                 Traceback (most recent call last)",
            "\u001b[0;32m<ipython-input-10-197c75e435ed>\u001b[0m in \u001b[0;36m<module>\u001b[0;34m()\u001b[0m\n\u001b[1;32m     29\u001b[0m \u001b[0;34m\u001b[0m\u001b[0m\n\u001b[1;32m     30\u001b[0m \u001b[0;31m# Find solution\u001b[0m\u001b[0;34m\u001b[0m\u001b[0;34m\u001b[0m\u001b[0;34m\u001b[0m\u001b[0m\n\u001b[0;32m---> 31\u001b[0;31m \u001b[0mx\u001b[0m \u001b[0;34m=\u001b[0m \u001b[0mback\u001b[0m\u001b[0;34m(\u001b[0m\u001b[0mAe\u001b[0m\u001b[0;34m[\u001b[0m\u001b[0;34m:\u001b[0m\u001b[0;34m,\u001b[0m\u001b[0;34m:\u001b[0m\u001b[0;34m-\u001b[0m\u001b[0;36m1\u001b[0m\u001b[0;34m]\u001b[0m\u001b[0;34m,\u001b[0m\u001b[0mAe\u001b[0m\u001b[0;34m[\u001b[0m\u001b[0;34m:\u001b[0m\u001b[0;34m,\u001b[0m\u001b[0mAe\u001b[0m\u001b[0;34m.\u001b[0m\u001b[0mshape\u001b[0m\u001b[0;34m[\u001b[0m\u001b[0;36m1\u001b[0m\u001b[0;34m]\u001b[0m\u001b[0;34m-\u001b[0m\u001b[0;36m1\u001b[0m\u001b[0;34m]\u001b[0m\u001b[0;34m)\u001b[0m\u001b[0;34m\u001b[0m\u001b[0;34m\u001b[0m\u001b[0m\n\u001b[0m\u001b[1;32m     32\u001b[0m \u001b[0mprint\u001b[0m\u001b[0;34m(\u001b[0m\u001b[0;34mf'Solution: {x}'\u001b[0m\u001b[0;34m)\u001b[0m\u001b[0;34m\u001b[0m\u001b[0;34m\u001b[0m\u001b[0m\n",
            "\u001b[0;31mNameError\u001b[0m: name 'back' is not defined"
          ]
        }
      ]
    }
  ]
}