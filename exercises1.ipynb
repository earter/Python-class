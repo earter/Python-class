{
  "nbformat": 4,
  "nbformat_minor": 0,
  "metadata": {
    "colab": {
      "name": "exercises1.ipynb",
      "version": "0.3.2",
      "provenance": [],
      "collapsed_sections": [],
      "include_colab_link": true
    },
    "kernelspec": {
      "name": "python3",
      "display_name": "Python 3"
    }
  },
  "cells": [
    {
      "cell_type": "markdown",
      "metadata": {
        "id": "view-in-github",
        "colab_type": "text"
      },
      "source": [
        "<a href=\"https://colab.research.google.com/github/earter/Python-class/blob/master/exercises1.ipynb\" target=\"_parent\"><img src=\"https://colab.research.google.com/assets/colab-badge.svg\" alt=\"Open In Colab\"/></a>"
      ]
    },
    {
      "metadata": {
        "id": "w-Ft-celB2EL",
        "colab_type": "code",
        "outputId": "a4bc3543-2014-4eed-fc42-16280d9c8370",
        "colab": {
          "base_uri": "https://localhost:8080/",
          "height": 34
        }
      },
      "cell_type": "code",
      "source": [
        "# task 1\n",
        "# What is 7 to the power of 4?\n",
        "\n",
        "print(7**4)"
      ],
      "execution_count": 0,
      "outputs": [
        {
          "output_type": "stream",
          "text": [
            "2401\n"
          ],
          "name": "stdout"
        }
      ]
    },
    {
      "metadata": {
        "id": "QzzKbrMACCeu",
        "colab_type": "code",
        "outputId": "06e9a984-d793-4647-b7a5-fd7fca7617d9",
        "colab": {
          "base_uri": "https://localhost:8080/",
          "height": 34
        }
      },
      "cell_type": "code",
      "source": [
        "# task 2\n",
        "# Split this string: s = “Hi there Sam!” into a list and replace Sam with dad. \n",
        "\n",
        "s = \"Hi there Sam!\"\n",
        "a = list(s.split())\n",
        "a[2] = \"Dad!\"\n",
        "print(a)"
      ],
      "execution_count": 0,
      "outputs": [
        {
          "output_type": "stream",
          "text": [
            "['Hi', 'there', 'Dad!']\n"
          ],
          "name": "stdout"
        }
      ]
    },
    {
      "metadata": {
        "id": "YLFG8B79DKtG",
        "colab_type": "code",
        "outputId": "e3e3ac98-7f07-4c19-de7a-1be391187c50",
        "colab": {
          "base_uri": "https://localhost:8080/",
          "height": 34
        }
      },
      "cell_type": "code",
      "source": [
        "# task 3\n",
        "# Given the variables: planet = “Earth” diameter = 12742 \n",
        "# Use .format() to print the following string: The diameter of Earth is 12742 kilometers.\n",
        "\n",
        "planet = \"Earth\"\n",
        "diameter = 12742\n",
        "print(\"The diameter of {} is {}\".format(planet, diameter))"
      ],
      "execution_count": 0,
      "outputs": [
        {
          "output_type": "stream",
          "text": [
            "The diameter of Earth is 12742\n"
          ],
          "name": "stdout"
        }
      ]
    },
    {
      "metadata": {
        "id": "E1ArWIAeEt6g",
        "colab_type": "code",
        "outputId": "ee2b5d71-fdf0-486d-9877-bf30860b07f8",
        "colab": {
          "base_uri": "https://localhost:8080/",
          "height": 34
        }
      },
      "cell_type": "code",
      "source": [
        "# task 4 \n",
        "# Given this nested list, use indexing to grab the word “hello”\n",
        "\n",
        "lst = [1,2,[3,4],[5,[100,200,['hello']],23,11],1,7]\n",
        "lst[3][1][2][0]"
      ],
      "execution_count": 0,
      "outputs": [
        {
          "output_type": "execute_result",
          "data": {
            "text/plain": [
              "'hello'"
            ]
          },
          "metadata": {
            "tags": []
          },
          "execution_count": 19
        }
      ]
    },
    {
      "metadata": {
        "id": "OugvrIAzFaOp",
        "colab_type": "code",
        "outputId": "61cf8856-39e1-456c-8fcb-40ffcf4a0479",
        "colab": {
          "base_uri": "https://localhost:8080/",
          "height": 34
        }
      },
      "cell_type": "code",
      "source": [
        "# task 5\n",
        "# Given this nested dictionary grab the word “hello”. \n",
        "\n",
        "d = {'k1':[1,2,3,{'tricky':['oh','man','inception',{'target':[1,2,3,'hello']}]}]}\n",
        "\n",
        "print(d['k1'][3]['tricky'][3]['target'][3])"
      ],
      "execution_count": 0,
      "outputs": [
        {
          "output_type": "stream",
          "text": [
            "hello\n"
          ],
          "name": "stdout"
        }
      ]
    },
    {
      "metadata": {
        "id": "BQw9b0YwHF7b",
        "colab_type": "code",
        "colab": {}
      },
      "cell_type": "code",
      "source": [
        "# task 6\n",
        "# What is the main difference between a tuple and a list?\n",
        "\n",
        "# Tuples are faster , declared with () , it's immutable list\n",
        "# tuples don't support item signing: t=(1,2,3); t[2]=3 will generate error\n",
        "# Lists are declared with [] l=[1,2,3]"
      ],
      "execution_count": 0,
      "outputs": []
    },
    {
      "metadata": {
        "id": "ZnXK5m7sGVeh",
        "colab_type": "code",
        "outputId": "622a7ce2-6f5a-46da-8a81-da918334fc9d",
        "colab": {
          "base_uri": "https://localhost:8080/",
          "height": 34
        }
      },
      "cell_type": "code",
      "source": [
        "# task 7\n",
        "# Create a function that grabs the email website domain from a string in the form: super_user@ee.pw.edu.pl\n",
        "\n",
        "def domain(s):\n",
        "  return print(s.split('@')[1])\n",
        "  \n",
        "domain(\"super_user@ee.pw.edu.pl\")  "
      ],
      "execution_count": 0,
      "outputs": [
        {
          "output_type": "stream",
          "text": [
            "ee.pw.edu.pl\n"
          ],
          "name": "stdout"
        }
      ]
    },
    {
      "metadata": {
        "id": "lLLXjE6tGRLi",
        "colab_type": "code",
        "outputId": "c66d78de-ecaa-4084-938d-8429f9ee3c71",
        "colab": {
          "base_uri": "https://localhost:8080/",
          "height": 51
        }
      },
      "cell_type": "code",
      "source": [
        "# task 8\n",
        "# Create a basic function that returns True if the word ‘car’ is contained in the input string. \n",
        "# Don’t worry about edge cases like a punctuation being attached to the word car, but do account for capitalization. \n",
        "\n",
        "def carfcn(s):\n",
        "  if \"car\" in s.lower():\n",
        "    return True\n",
        "  else:\n",
        "    return False\n",
        "  \n",
        "aa = \"car in this\"  \n",
        "print(carfcn(aa))\n",
        "aa = \"not in this\"\n",
        "print(carfcn(aa))"
      ],
      "execution_count": 0,
      "outputs": [
        {
          "output_type": "stream",
          "text": [
            "True\n",
            "False\n"
          ],
          "name": "stdout"
        }
      ]
    },
    {
      "metadata": {
        "id": "M5-VWK9WGKip",
        "colab_type": "code",
        "outputId": "754f48a4-9ab1-44ca-8adc-b35a775dc18a",
        "colab": {
          "base_uri": "https://localhost:8080/",
          "height": 68
        }
      },
      "cell_type": "code",
      "source": [
        "# task 9 \n",
        "# Create a function that counts the number of times the word “car” occurs in a string. Again ignore edge cases.\n",
        "\n",
        "def carfcn(s):\n",
        "  cnt=0\n",
        "  for i in range(len(s.split())):\n",
        "\n",
        "    if \"car\" in s.lower().split()[i]:\n",
        "      cnt += 1\n",
        "  return cnt\n",
        "  \n",
        "  \n",
        "aa = \"CAR car and a caR\" \n",
        "print(carfcn(aa))\n",
        "aa = \"car in this\"  \n",
        "print(carfcn(aa))\n",
        "aa = \"not in this\"\n",
        "print(carfcn(aa))  "
      ],
      "execution_count": 0,
      "outputs": [
        {
          "output_type": "stream",
          "text": [
            "3\n",
            "1\n",
            "0\n"
          ],
          "name": "stdout"
        }
      ]
    },
    {
      "metadata": {
        "id": "zcrrBlKGGGhw",
        "colab_type": "code",
        "outputId": "609e5d65-c7a6-44ed-f04b-c8f97d89fd5d",
        "colab": {
          "base_uri": "https://localhost:8080/",
          "height": 34
        }
      },
      "cell_type": "code",
      "source": [
        "# task 10\n",
        "# Use lambda expressions and the filter() function to filter out words from a list that don’t start with the letter ‘s’.\n",
        "\n",
        "seq = ['soup','dog','salad','cat','greats','osks', 'sylvestere'] \n",
        "list(filter(lambda se: 's' in se[0], seq))"
      ],
      "execution_count": 0,
      "outputs": [
        {
          "output_type": "execute_result",
          "data": {
            "text/plain": [
              "['soup', 'salad', 'sylvestere']"
            ]
          },
          "metadata": {
            "tags": []
          },
          "execution_count": 18
        }
      ]
    },
    {
      "metadata": {
        "id": "TXPuyz3dDH01",
        "colab_type": "code",
        "outputId": "ea257696-50e5-4860-b5be-6fc6f9eb6dcf",
        "colab": {
          "base_uri": "https://localhost:8080/",
          "height": 225
        }
      },
      "cell_type": "code",
      "source": [
        "# task 11\n",
        "# Write a function to return one of 3 possible results: “No ticket”, “Small ticket”, or “Big Ticket”. \n",
        "# If your speed is 60 or less, the result is “No Ticket”. \n",
        "# If speed is between 61 and 80 inclusive, the result is “Small Ticket”. If speed is 81 or more, the result is “Big Ticket”. \n",
        "# Unless it is your birthday (encoded as a boolean value in the parameters of the function) – on your birthday, your speed can be 5 higher in all cases.\n",
        "\n",
        "def ticket(speed, bday):\n",
        "  if (bday):\n",
        "    speed -= 5\n",
        "  if speed > 80:\n",
        "    return(print(\"Big ticket!\"))\n",
        "  elif (80 >= speed > 60):\n",
        "    return(print(\"Small ticket!\"))\n",
        "  else:\n",
        "    return(print(\"No ticket!\"))\n",
        "\n",
        "def test(speeds, bday):\n",
        "  for i in speeds:\n",
        "    ticket(i, bday)\n",
        "\n",
        "speeds = (20,60,61,80,81,101)\n",
        "\n",
        "# no birthday    \n",
        "test(speeds, 0)    \n",
        "\n",
        "# birthday\n",
        "test(speeds, 1)  \n",
        "  "
      ],
      "execution_count": 0,
      "outputs": [
        {
          "output_type": "stream",
          "text": [
            "No ticket!\n",
            "No ticket!\n",
            "Small ticket!\n",
            "Small ticket!\n",
            "Big ticket!\n",
            "Big ticket!\n",
            "No ticket!\n",
            "No ticket!\n",
            "No ticket!\n",
            "Small ticket!\n",
            "Small ticket!\n",
            "Big ticket!\n"
          ],
          "name": "stdout"
        }
      ]
    }
  ]
}