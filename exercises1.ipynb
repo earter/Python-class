{
  "nbformat": 4,
  "nbformat_minor": 0,
  "metadata": {
    "colab": {
      "name": "exercises1.ipynb",
      "version": "0.3.2",
      "provenance": [],
      "collapsed_sections": [],
      "include_colab_link": true
    },
    "kernelspec": {
      "name": "python3",
      "display_name": "Python 3"
    }
  },
  "cells": [
    {
      "cell_type": "markdown",
      "metadata": {
        "id": "view-in-github",
        "colab_type": "text"
      },
      "source": [
        "<a href=\"https://colab.research.google.com/github/earter/Python-class/blob/master/exercises1.ipynb\" target=\"_parent\"><img src=\"https://colab.research.google.com/assets/colab-badge.svg\" alt=\"Open In Colab\"/></a>"
      ]
    },
    {
      "cell_type": "code",
      "metadata": {
        "id": "w-Ft-celB2EL",
        "colab_type": "code",
        "outputId": "a4bc3543-2014-4eed-fc42-16280d9c8370",
        "colab": {
          "base_uri": "https://localhost:8080/",
          "height": 34
        }
      },
      "source": [
        "# task 1\n",
        "# What is 7 to the power of 4?\n",
        "\n",
        "print(7**4)"
      ],
      "execution_count": 0,
      "outputs": [
        {
          "output_type": "stream",
          "text": [
            "2401\n"
          ],
          "name": "stdout"
        }
      ]
    },
    {
      "cell_type": "code",
      "metadata": {
        "id": "QzzKbrMACCeu",
        "colab_type": "code",
        "outputId": "06e9a984-d793-4647-b7a5-fd7fca7617d9",
        "colab": {
          "base_uri": "https://localhost:8080/",
          "height": 34
        }
      },
      "source": [
        "# task 2\n",
        "# Split this string: s = “Hi there Sam!” into a list and replace Sam with dad. \n",
        "\n",
        "s = \"Hi there Sam!\"\n",
        "a = list(s.split())\n",
        "a[2] = \"Dad!\"\n",
        "print(a)"
      ],
      "execution_count": 0,
      "outputs": [
        {
          "output_type": "stream",
          "text": [
            "['Hi', 'there', 'Dad!']\n"
          ],
          "name": "stdout"
        }
      ]
    },
    {
      "cell_type": "code",
      "metadata": {
        "id": "YLFG8B79DKtG",
        "colab_type": "code",
        "outputId": "e3e3ac98-7f07-4c19-de7a-1be391187c50",
        "colab": {
          "base_uri": "https://localhost:8080/",
          "height": 34
        }
      },
      "source": [
        "# task 3\n",
        "# Given the variables: planet = “Earth” diameter = 12742 \n",
        "# Use .format() to print the following string: The diameter of Earth is 12742 kilometers.\n",
        "\n",
        "planet = \"Earth\"\n",
        "diameter = 12742\n",
        "print(\"The diameter of {} is {}\".format(planet, diameter))"
      ],
      "execution_count": 0,
      "outputs": [
        {
          "output_type": "stream",
          "text": [
            "The diameter of Earth is 12742\n"
          ],
          "name": "stdout"
        }
      ]
    },
    {
      "cell_type": "code",
      "metadata": {
        "id": "E1ArWIAeEt6g",
        "colab_type": "code",
        "outputId": "ee2b5d71-fdf0-486d-9877-bf30860b07f8",
        "colab": {
          "base_uri": "https://localhost:8080/",
          "height": 34
        }
      },
      "source": [
        "# task 4 \n",
        "# Given this nested list, use indexing to grab the word “hello”\n",
        "\n",
        "lst = [1,2,[3,4],[5,[100,200,['hello']],23,11],1,7]\n",
        "lst[3][1][2][0]"
      ],
      "execution_count": 0,
      "outputs": [
        {
          "output_type": "execute_result",
          "data": {
            "text/plain": [
              "'hello'"
            ]
          },
          "metadata": {
            "tags": []
          },
          "execution_count": 19
        }
      ]
    },
    {
      "cell_type": "code",
      "metadata": {
        "id": "OugvrIAzFaOp",
        "colab_type": "code",
        "outputId": "61cf8856-39e1-456c-8fcb-40ffcf4a0479",
        "colab": {
          "base_uri": "https://localhost:8080/",
          "height": 34
        }
      },
      "source": [
        "# task 5\n",
        "# Given this nested dictionary grab the word “hello”. \n",
        "\n",
        "d = {'k1':[1,2,3,{'tricky':['oh','man','inception',{'target':[1,2,3,'hello']}]}]}\n",
        "print(d['k1'][3]['tricky'][3]['target'][3])"
      ],
      "execution_count": 0,
      "outputs": [
        {
          "output_type": "stream",
          "text": [
            "hello\n"
          ],
          "name": "stdout"
        }
      ]
    },
    {
      "cell_type": "code",
      "metadata": {
        "id": "BQw9b0YwHF7b",
        "colab_type": "code",
        "colab": {}
      },
      "source": [
        "# task 6\n",
        "# What is the main difference between a tuple and a list?\n",
        "\n",
        "# Tuples are faster , declared with () , it's an immutable list\n",
        "# Tuples don't support item signing: t=(1,2,3); t[2]=3 will generate an error\n",
        "# Lists are declared with [], eg. l=[1,2,3]"
      ],
      "execution_count": 0,
      "outputs": []
    },
    {
      "cell_type": "code",
      "metadata": {
        "id": "ZnXK5m7sGVeh",
        "colab_type": "code",
        "outputId": "8960a72b-909e-4cd6-c79a-cc3b3bb097fd",
        "colab": {
          "base_uri": "https://localhost:8080/",
          "height": 34
        }
      },
      "source": [
        "# task 7\n",
        "# Create a function that grabs the email website domain from a string in the \n",
        "# form: super_user@ee.pw.edu.pl\n",
        "\n",
        "def domain(s):\n",
        "  return s.split('@')[1]\n",
        "  \n",
        "    \n",
        "print(domain(\"super_user@ee.pw.edu.pl\"))"
      ],
      "execution_count": 1,
      "outputs": [
        {
          "output_type": "stream",
          "text": [
            "ee.pw.edu.pl\n"
          ],
          "name": "stdout"
        }
      ]
    },
    {
      "cell_type": "code",
      "metadata": {
        "id": "lLLXjE6tGRLi",
        "colab_type": "code",
        "outputId": "c66d78de-ecaa-4084-938d-8429f9ee3c71",
        "colab": {
          "base_uri": "https://localhost:8080/",
          "height": 51
        }
      },
      "source": [
        "# task 8\n",
        "# Create a basic function that returns True if the word ‘car’ is contained \n",
        "# in the input string. Don’t worry about edge cases like a punctuation being\n",
        "# attached to the word car, but do account for capitalization. \n",
        "\n",
        "def carfcn(s):\n",
        "  if \"car\" in s.lower():\n",
        "    return True\n",
        "  else:\n",
        "    return False\n",
        "  \n",
        "    \n",
        "aa = \"car in this\"  \n",
        "print(carfcn(aa))\n",
        "aa = \"not in this\"\n",
        "print(carfcn(aa))"
      ],
      "execution_count": 0,
      "outputs": [
        {
          "output_type": "stream",
          "text": [
            "True\n",
            "False\n"
          ],
          "name": "stdout"
        }
      ]
    },
    {
      "cell_type": "code",
      "metadata": {
        "id": "M5-VWK9WGKip",
        "colab_type": "code",
        "outputId": "754f48a4-9ab1-44ca-8adc-b35a775dc18a",
        "colab": {
          "base_uri": "https://localhost:8080/",
          "height": 68
        }
      },
      "source": [
        "# task 9 \n",
        "# Create a function that counts the number of times the word “car” \n",
        "# occurs in a string. Again ignore edge cases.\n",
        "\n",
        "def carfcn(s):\n",
        "  cnt = 0\n",
        "  for i in range(len(s.split())):\n",
        "    if \"car\" in s.lower().split()[i]:\n",
        "      cnt += 1\n",
        "  return cnt\n",
        "  \n",
        "  \n",
        "aa = \"CAR car and a caR\" \n",
        "print(carfcn(aa))\n",
        "aa = \"car in this\"  \n",
        "print(carfcn(aa))\n",
        "aa = \"not in this\"\n",
        "print(carfcn(aa))  "
      ],
      "execution_count": 0,
      "outputs": [
        {
          "output_type": "stream",
          "text": [
            "3\n",
            "1\n",
            "0\n"
          ],
          "name": "stdout"
        }
      ]
    },
    {
      "cell_type": "code",
      "metadata": {
        "id": "zcrrBlKGGGhw",
        "colab_type": "code",
        "outputId": "609e5d65-c7a6-44ed-f04b-c8f97d89fd5d",
        "colab": {
          "base_uri": "https://localhost:8080/",
          "height": 34
        }
      },
      "source": [
        "# task 10\n",
        "# Use lambda expressions and the filter() function to filter out words from \n",
        "#a list that don’t start with the letter ‘s’.\n",
        "\n",
        "seq = ['soup','dog','salad','cat','greats','osks', 'sylvestere'] \n",
        "list(filter(lambda se: 's' in se[0], seq))"
      ],
      "execution_count": 0,
      "outputs": [
        {
          "output_type": "execute_result",
          "data": {
            "text/plain": [
              "['soup', 'salad', 'sylvestere']"
            ]
          },
          "metadata": {
            "tags": []
          },
          "execution_count": 18
        }
      ]
    },
    {
      "cell_type": "code",
      "metadata": {
        "id": "TXPuyz3dDH01",
        "colab_type": "code",
        "outputId": "8212d27a-946d-48d7-b425-106f5661554e",
        "colab": {
          "base_uri": "https://localhost:8080/",
          "height": 52
        }
      },
      "source": [
        "# task 11\n",
        "# Write a function to return one of 3 possible results: “No ticket”, \n",
        "# “Small ticket”, or “Big Ticket”. \n",
        "# If your speed is 60 or less, the result is “No Ticket”. \n",
        "# If speed is between 61 and 80 inclusive, the result is “Small Ticket”. \n",
        "# If speed is 81 or more, the result is “Big Ticket”. \n",
        "# Unless it is your birthday (encoded as a boolean value in the parameters \n",
        "# of the function) – on your birthday, your speed can be 5 higher in all cases.\n",
        "\n",
        "def ticket(speed, bday):\n",
        "  limit_low = 60\n",
        "  limit_high = 80\n",
        "    \n",
        "  if (bday):\n",
        "    speed -= 5\n",
        "  if speed > limit_high:\n",
        "    return \"Big ticket!\"\n",
        "  elif (limit_high >= speed > limit_low):\n",
        "    return \"Small ticket!\"\n",
        "  else:\n",
        "    return \"No ticket!\"\n",
        "\n",
        "\n",
        "speeds = (20,60,61,80,81,101)\n",
        "\n",
        "# birthday\n",
        "bday_flag = 0\n",
        "l1 = [ticket(i, bday_flag) for i in speeds]\n",
        "print(f\"birthday results: {l1}\")\n",
        "\n",
        "# no birthday    \n",
        "bday_flag = 1\n",
        "l2 = [ticket(i, bday_flag) for i in speeds]\n",
        "print(f\"no birthday results: {l2}\")"
      ],
      "execution_count": 27,
      "outputs": [
        {
          "output_type": "stream",
          "text": [
            "birthday results: ['No ticket!', 'No ticket!', 'Small ticket!', 'Small ticket!', 'Big ticket!', 'Big ticket!']\n",
            "no birthday results: ['No ticket!', 'No ticket!', 'No ticket!', 'Small ticket!', 'Small ticket!', 'Big ticket!']\n"
          ],
          "name": "stdout"
        }
      ]
    }
  ]
}